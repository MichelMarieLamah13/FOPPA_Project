{
 "cells": [
  {
   "cell_type": "code",
   "execution_count": 2,
   "metadata": {
    "collapsed": true
   },
   "outputs": [],
   "source": [
    "from functions.utils_agents import *\n",
    "import warnings\n",
    "\n",
    "warnings.filterwarnings('ignore')"
   ]
  },
  {
   "cell_type": "code",
   "execution_count": 4,
   "metadata": {},
   "outputs": [],
   "source": [
    "agents = load_data(path='../donnees/agents_cleaned.csv')"
   ]
  },
  {
   "cell_type": "code",
   "execution_count": 5,
   "metadata": {},
   "outputs": [
    {
     "data": {
      "text/html": [
       "<div>\n",
       "<style scoped>\n",
       "    .dataframe tbody tr th:only-of-type {\n",
       "        vertical-align: middle;\n",
       "    }\n",
       "\n",
       "    .dataframe tbody tr th {\n",
       "        vertical-align: top;\n",
       "    }\n",
       "\n",
       "    .dataframe thead th {\n",
       "        text-align: right;\n",
       "    }\n",
       "</style>\n",
       "<table border=\"1\" class=\"dataframe\">\n",
       "  <thead>\n",
       "    <tr style=\"text-align: right;\">\n",
       "      <th></th>\n",
       "      <th>agentId</th>\n",
       "      <th>name</th>\n",
       "      <th>siret</th>\n",
       "      <th>address</th>\n",
       "      <th>city</th>\n",
       "      <th>zipcode</th>\n",
       "      <th>country</th>\n",
       "      <th>department</th>\n",
       "      <th>cleaned</th>\n",
       "      <th>cleaned_country</th>\n",
       "      <th>cleaned_city</th>\n",
       "      <th>cleaned_address</th>\n",
       "      <th>cleaned_department</th>\n",
       "      <th>zipcode_str</th>\n",
       "      <th>cleaned_zipcode</th>\n",
       "    </tr>\n",
       "  </thead>\n",
       "  <tbody>\n",
       "    <tr>\n",
       "      <th>0</th>\n",
       "      <td>0</td>\n",
       "      <td>#APTIC</td>\n",
       "      <td>8.445059e+13</td>\n",
       "      <td>87 QUAI DE QUEYRIES</td>\n",
       "      <td>BORDEAUX</td>\n",
       "      <td>33100.0</td>\n",
       "      <td>FR</td>\n",
       "      <td>33</td>\n",
       "      <td>8.445059e+13</td>\n",
       "      <td>FR</td>\n",
       "      <td>BORDEAUX</td>\n",
       "      <td>87 QUAI DE QUEYRIES</td>\n",
       "      <td>33</td>\n",
       "      <td>33100.0</td>\n",
       "      <td>33100.0</td>\n",
       "    </tr>\n",
       "    <tr>\n",
       "      <th>1</th>\n",
       "      <td>1</td>\n",
       "      <td>LEGALLAIS SAS</td>\n",
       "      <td>1.000000e+13</td>\n",
       "      <td>TSA 70004</td>\n",
       "      <td>CAEN;</td>\n",
       "      <td>75008.0</td>\n",
       "      <td>FR</td>\n",
       "      <td>75</td>\n",
       "      <td>1.000000e+13</td>\n",
       "      <td>FR</td>\n",
       "      <td>CAEN;</td>\n",
       "      <td>TSA 70004</td>\n",
       "      <td>75</td>\n",
       "      <td>NaN</td>\n",
       "      <td>75008.0</td>\n",
       "    </tr>\n",
       "    <tr>\n",
       "      <th>2</th>\n",
       "      <td>2</td>\n",
       "      <td>SOCIETE CORSE TRAVAUX</td>\n",
       "      <td>3.304645e+13</td>\n",
       "      <td>RN 200</td>\n",
       "      <td>ALERIA</td>\n",
       "      <td>20270.0</td>\n",
       "      <td>FR</td>\n",
       "      <td>2B</td>\n",
       "      <td>3.304645e+13</td>\n",
       "      <td>FR</td>\n",
       "      <td>ALERIA</td>\n",
       "      <td>RN 200</td>\n",
       "      <td>2B</td>\n",
       "      <td>20270.0</td>\n",
       "      <td>20270.0</td>\n",
       "    </tr>\n",
       "    <tr>\n",
       "      <th>3</th>\n",
       "      <td>3</td>\n",
       "      <td>BECTON DICKINSON FRANCE SAS</td>\n",
       "      <td>1.000000e+13</td>\n",
       "      <td>11 RUE ARISTIDE BERGES ;</td>\n",
       "      <td>PONT E CLAIX</td>\n",
       "      <td>75008.0</td>\n",
       "      <td>FR</td>\n",
       "      <td>75</td>\n",
       "      <td>1.000000e+13</td>\n",
       "      <td>FR</td>\n",
       "      <td>PONT E CLAIX</td>\n",
       "      <td>11 RUE ARISTIDE BERGES ;</td>\n",
       "      <td>75</td>\n",
       "      <td>NaN</td>\n",
       "      <td>75008.0</td>\n",
       "    </tr>\n",
       "    <tr>\n",
       "      <th>4</th>\n",
       "      <td>4</td>\n",
       "      <td>ACOORD CADRE MULTI ATTRIBUTAIRES 1</td>\n",
       "      <td>1.000000e+13</td>\n",
       "      <td>1</td>\n",
       "      <td>PARIS</td>\n",
       "      <td>75008.0</td>\n",
       "      <td>FR</td>\n",
       "      <td>75</td>\n",
       "      <td>1.000000e+13</td>\n",
       "      <td>FR</td>\n",
       "      <td>PARIS</td>\n",
       "      <td>1</td>\n",
       "      <td>75</td>\n",
       "      <td>NaN</td>\n",
       "      <td>75008.0</td>\n",
       "    </tr>\n",
       "  </tbody>\n",
       "</table>\n",
       "</div>"
      ],
      "text/plain": [
       "   agentId                                name         siret  \\\n",
       "0        0                              #APTIC  8.445059e+13   \n",
       "1        1                       LEGALLAIS SAS  1.000000e+13   \n",
       "2        2               SOCIETE CORSE TRAVAUX  3.304645e+13   \n",
       "3        3         BECTON DICKINSON FRANCE SAS  1.000000e+13   \n",
       "4        4  ACOORD CADRE MULTI ATTRIBUTAIRES 1  1.000000e+13   \n",
       "\n",
       "                    address          city  zipcode country department  \\\n",
       "0       87 QUAI DE QUEYRIES      BORDEAUX  33100.0      FR         33   \n",
       "1                 TSA 70004         CAEN;  75008.0      FR         75   \n",
       "2                    RN 200        ALERIA  20270.0      FR         2B   \n",
       "3  11 RUE ARISTIDE BERGES ;  PONT E CLAIX  75008.0      FR         75   \n",
       "4                         1         PARIS  75008.0      FR         75   \n",
       "\n",
       "        cleaned cleaned_country  cleaned_city           cleaned_address  \\\n",
       "0  8.445059e+13              FR      BORDEAUX       87 QUAI DE QUEYRIES   \n",
       "1  1.000000e+13              FR         CAEN;                 TSA 70004   \n",
       "2  3.304645e+13              FR        ALERIA                    RN 200   \n",
       "3  1.000000e+13              FR  PONT E CLAIX  11 RUE ARISTIDE BERGES ;   \n",
       "4  1.000000e+13              FR         PARIS                         1   \n",
       "\n",
       "  cleaned_department  zipcode_str  cleaned_zipcode  \n",
       "0                 33      33100.0          33100.0  \n",
       "1                 75          NaN          75008.0  \n",
       "2                 2B      20270.0          20270.0  \n",
       "3                 75          NaN          75008.0  \n",
       "4                 75          NaN          75008.0  "
      ]
     },
     "execution_count": 5,
     "metadata": {},
     "output_type": "execute_result"
    }
   ],
   "source": [
    "agents.head()"
   ]
  },
  {
   "cell_type": "markdown",
   "metadata": {},
   "source": [
    "# Question 1\n",
    "\n",
    "Q1: peut-on identifier des classes de similarité d’agents économiques? Des lots?"
   ]
  },
  {
   "cell_type": "markdown",
   "metadata": {},
   "source": [
    "Nous allons nous concentrer sur les variables:\n",
    "- **city**\n",
    "- **country**\n",
    "- **department**\n",
    "\n",
    "Pour le clustering, nous allons ajouter d'autres valeurs numériques:\n",
    "- **vc**: nombre d'id different pour chaque agent \n",
    "- **buyers**: nombre de lots achété par l'agent\n",
    "- **suppliers**: nombre de lots vendu par l'agent"
   ]
  },
  {
   "cell_type": "code",
   "execution_count": 8,
   "metadata": {},
   "outputs": [],
   "source": [
    "buyers = load_data(path='../donnees/LotBuyers.csv')\n",
    "suppliers = load_data(path='../donnees/LotSuppliers.csv')"
   ]
  },
  {
   "cell_type": "code",
   "execution_count": 9,
   "metadata": {},
   "outputs": [],
   "source": [
    "buyers_gb_1 = get_gb_count(buyers, by_col='agentId', count_col='buyers')\n",
    "suppliers_gb_1 = get_gb_count(suppliers, by_col='agentId', count_col='suppliers')\n",
    "agents_gb_1 = get_gb_count(agents, by_col='name', count_col='vc')"
   ]
  },
  {
   "cell_type": "code",
   "execution_count": 10,
   "metadata": {},
   "outputs": [],
   "source": [
    "other_1 = buyers_gb_1.drop(columns=['proportion'])\n",
    "other_2 = suppliers_gb_1.drop(columns=['proportion'])\n",
    "other_3 = agents_gb_1.drop(columns=['proportion'])"
   ]
  },
  {
   "cell_type": "code",
   "execution_count": 11,
   "metadata": {},
   "outputs": [],
   "source": [
    "others = [\n",
    "    ('agentId', 'left', other_1),\n",
    "    ('agentId', 'left', other_2),\n",
    "    ('name', 'left', other_3)\n",
    "]\n",
    "data = agents[['agentId', 'name','cleaned_city', 'cleaned_country', 'cleaned_department']]"
   ]
  },
  {
   "cell_type": "code",
   "execution_count": 12,
   "metadata": {},
   "outputs": [],
   "source": [
    "agents_merged = merge_data(data, others)"
   ]
  },
  {
   "cell_type": "code",
   "execution_count": 13,
   "metadata": {},
   "outputs": [
    {
     "data": {
      "text/html": [
       "<div>\n",
       "<style scoped>\n",
       "    .dataframe tbody tr th:only-of-type {\n",
       "        vertical-align: middle;\n",
       "    }\n",
       "\n",
       "    .dataframe tbody tr th {\n",
       "        vertical-align: top;\n",
       "    }\n",
       "\n",
       "    .dataframe thead th {\n",
       "        text-align: right;\n",
       "    }\n",
       "</style>\n",
       "<table border=\"1\" class=\"dataframe\">\n",
       "  <thead>\n",
       "    <tr style=\"text-align: right;\">\n",
       "      <th></th>\n",
       "      <th>agentId</th>\n",
       "      <th>name</th>\n",
       "      <th>cleaned_city</th>\n",
       "      <th>cleaned_country</th>\n",
       "      <th>cleaned_department</th>\n",
       "      <th>buyers</th>\n",
       "      <th>suppliers</th>\n",
       "      <th>vc</th>\n",
       "    </tr>\n",
       "  </thead>\n",
       "  <tbody>\n",
       "    <tr>\n",
       "      <th>0</th>\n",
       "      <td>0</td>\n",
       "      <td>#APTIC</td>\n",
       "      <td>BORDEAUX</td>\n",
       "      <td>FR</td>\n",
       "      <td>33</td>\n",
       "      <td>0.0</td>\n",
       "      <td>8.0</td>\n",
       "      <td>1</td>\n",
       "    </tr>\n",
       "    <tr>\n",
       "      <th>1</th>\n",
       "      <td>1</td>\n",
       "      <td>LEGALLAIS SAS</td>\n",
       "      <td>CAEN;</td>\n",
       "      <td>FR</td>\n",
       "      <td>75</td>\n",
       "      <td>0.0</td>\n",
       "      <td>3.0</td>\n",
       "      <td>5</td>\n",
       "    </tr>\n",
       "    <tr>\n",
       "      <th>2</th>\n",
       "      <td>2</td>\n",
       "      <td>SOCIETE CORSE TRAVAUX</td>\n",
       "      <td>ALERIA</td>\n",
       "      <td>FR</td>\n",
       "      <td>2B</td>\n",
       "      <td>0.0</td>\n",
       "      <td>62.0</td>\n",
       "      <td>2</td>\n",
       "    </tr>\n",
       "    <tr>\n",
       "      <th>3</th>\n",
       "      <td>3</td>\n",
       "      <td>BECTON DICKINSON FRANCE SAS</td>\n",
       "      <td>PONT E CLAIX</td>\n",
       "      <td>FR</td>\n",
       "      <td>75</td>\n",
       "      <td>0.0</td>\n",
       "      <td>2.0</td>\n",
       "      <td>1</td>\n",
       "    </tr>\n",
       "    <tr>\n",
       "      <th>4</th>\n",
       "      <td>4</td>\n",
       "      <td>ACOORD CADRE MULTI ATTRIBUTAIRES 1</td>\n",
       "      <td>PARIS</td>\n",
       "      <td>FR</td>\n",
       "      <td>75</td>\n",
       "      <td>0.0</td>\n",
       "      <td>2.0</td>\n",
       "      <td>1</td>\n",
       "    </tr>\n",
       "    <tr>\n",
       "      <th>...</th>\n",
       "      <td>...</td>\n",
       "      <td>...</td>\n",
       "      <td>...</td>\n",
       "      <td>...</td>\n",
       "      <td>...</td>\n",
       "      <td>...</td>\n",
       "      <td>...</td>\n",
       "      <td>...</td>\n",
       "    </tr>\n",
       "    <tr>\n",
       "      <th>301091</th>\n",
       "      <td>301091</td>\n",
       "      <td>STEF</td>\n",
       "      <td>AVIGNON</td>\n",
       "      <td>FR</td>\n",
       "      <td>84</td>\n",
       "      <td>0.0</td>\n",
       "      <td>7.0</td>\n",
       "      <td>7</td>\n",
       "    </tr>\n",
       "    <tr>\n",
       "      <th>301092</th>\n",
       "      <td>301092</td>\n",
       "      <td>STEF</td>\n",
       "      <td>REICHSTETT</td>\n",
       "      <td>FR</td>\n",
       "      <td>67</td>\n",
       "      <td>0.0</td>\n",
       "      <td>1.0</td>\n",
       "      <td>7</td>\n",
       "    </tr>\n",
       "    <tr>\n",
       "      <th>301093</th>\n",
       "      <td>301093</td>\n",
       "      <td>STEF</td>\n",
       "      <td>LOUDEAC</td>\n",
       "      <td>FR</td>\n",
       "      <td>22</td>\n",
       "      <td>0.0</td>\n",
       "      <td>5.0</td>\n",
       "      <td>7</td>\n",
       "    </tr>\n",
       "    <tr>\n",
       "      <th>301094</th>\n",
       "      <td>301094</td>\n",
       "      <td>STEF</td>\n",
       "      <td>BEGLES</td>\n",
       "      <td>FR</td>\n",
       "      <td>33</td>\n",
       "      <td>0.0</td>\n",
       "      <td>3.0</td>\n",
       "      <td>7</td>\n",
       "    </tr>\n",
       "    <tr>\n",
       "      <th>301095</th>\n",
       "      <td>301095</td>\n",
       "      <td>ECOFI INVESTISSEMENTS</td>\n",
       "      <td>PARIS 17</td>\n",
       "      <td>FR</td>\n",
       "      <td>75</td>\n",
       "      <td>0.0</td>\n",
       "      <td>1.0</td>\n",
       "      <td>1</td>\n",
       "    </tr>\n",
       "  </tbody>\n",
       "</table>\n",
       "<p>301096 rows × 8 columns</p>\n",
       "</div>"
      ],
      "text/plain": [
       "        agentId                                name  cleaned_city  \\\n",
       "0             0                              #APTIC      BORDEAUX   \n",
       "1             1                       LEGALLAIS SAS         CAEN;   \n",
       "2             2               SOCIETE CORSE TRAVAUX        ALERIA   \n",
       "3             3         BECTON DICKINSON FRANCE SAS  PONT E CLAIX   \n",
       "4             4  ACOORD CADRE MULTI ATTRIBUTAIRES 1         PARIS   \n",
       "...         ...                                 ...           ...   \n",
       "301091   301091                                STEF       AVIGNON   \n",
       "301092   301092                                STEF    REICHSTETT   \n",
       "301093   301093                                STEF       LOUDEAC   \n",
       "301094   301094                                STEF        BEGLES   \n",
       "301095   301095               ECOFI INVESTISSEMENTS      PARIS 17   \n",
       "\n",
       "       cleaned_country cleaned_department  buyers  suppliers  vc  \n",
       "0                   FR                 33     0.0        8.0   1  \n",
       "1                   FR                 75     0.0        3.0   5  \n",
       "2                   FR                 2B     0.0       62.0   2  \n",
       "3                   FR                 75     0.0        2.0   1  \n",
       "4                   FR                 75     0.0        2.0   1  \n",
       "...                ...                ...     ...        ...  ..  \n",
       "301091              FR                 84     0.0        7.0   7  \n",
       "301092              FR                 67     0.0        1.0   7  \n",
       "301093              FR                 22     0.0        5.0   7  \n",
       "301094              FR                 33     0.0        3.0   7  \n",
       "301095              FR                 75     0.0        1.0   1  \n",
       "\n",
       "[301096 rows x 8 columns]"
      ]
     },
     "execution_count": 13,
     "metadata": {},
     "output_type": "execute_result"
    }
   ],
   "source": [
    "agents_merged"
   ]
  },
  {
   "cell_type": "code",
   "execution_count": 16,
   "metadata": {},
   "outputs": [
    {
     "data": {
      "text/plain": [
       "['buyers', 'suppliers', 'vc']"
      ]
     },
     "execution_count": 16,
     "metadata": {},
     "output_type": "execute_result"
    }
   ],
   "source": [
    "numeric_columns = get_dtypes_columns(agents_merged, dtypes=['number'], to_remove=['agentId'])\n",
    "numeric_columns"
   ]
  },
  {
   "cell_type": "code",
   "execution_count": 15,
   "metadata": {},
   "outputs": [
    {
     "data": {
      "text/plain": [
       "['buyers', 'suppliers', 'vc']"
      ]
     },
     "execution_count": 15,
     "metadata": {},
     "output_type": "execute_result"
    }
   ],
   "source": []
  },
  {
   "cell_type": "code",
   "execution_count": 17,
   "metadata": {},
   "outputs": [
    {
     "data": {
      "text/plain": [
       "['cleaned_city', 'cleaned_country', 'cleaned_department']"
      ]
     },
     "execution_count": 17,
     "metadata": {},
     "output_type": "execute_result"
    }
   ],
   "source": [
    "categorical_columns = get_dtypes_columns(agents_merged, dtypes=['object'], to_remove=['name'])\n",
    "categorical_columns"
   ]
  },
  {
   "cell_type": "code",
   "execution_count": 18,
   "metadata": {},
   "outputs": [
    {
     "name": "stderr",
     "output_type": "stream",
     "text": [
      "100%|██████████| 19/19 [06:09<00:00, 19.47s/it]\n"
     ]
    },
    {
     "data": {
      "image/png": "[encoded data removed]",
      "text/plain": [
       "<Figure size 640x480 with 1 Axes>"
      ]
     },
     "metadata": {},
     "output_type": "display_data"
    }
   ],
   "source": [
    "best_k = run_multiple_kmeans(\n",
    "    data=agents_merged, \n",
    "    numeric_columns = numeric_columns, \n",
    "    categorical_columns = categorical_columns,\n",
    "    end = 20,\n",
    "    saveas = '../images/04_questions_agents_01.png'\n",
    ")"
   ]
  },
  {
   "cell_type": "code",
   "execution_count": 19,
   "metadata": {},
   "outputs": [
    {
     "data": {
      "text/plain": [
       "4"
      ]
     },
     "execution_count": 19,
     "metadata": {},
     "output_type": "execute_result"
    }
   ],
   "source": [
    "best_k"
   ]
  },
  {
   "cell_type": "code",
   "execution_count": 20,
   "metadata": {},
   "outputs": [],
   "source": [
    "clusters_1, inertia_1 = do_kmeans(\n",
    "    data=agents_merged, \n",
    "    numeric_columns = numeric_columns, \n",
    "    categorical_columns = categorical_columns,\n",
    "    k=best_k\n",
    ")"
   ]
  },
  {
   "cell_type": "code",
   "execution_count": 31,
   "metadata": {},
   "outputs": [],
   "source": [
    "clusters_1 = load_data(path='../donnees/agents_cleaned_clusters.csv')"
   ]
  },
  {
   "cell_type": "code",
   "execution_count": 33,
   "metadata": {},
   "outputs": [
    {
     "name": "stdout",
     "output_type": "stream",
     "text": [
      "(4, 22036) cluster cleaned_city\n",
      "(4, 105) cluster cleaned_country\n",
      "(4, 109) cluster cleaned_department\n"
     ]
    }
   ],
   "source": [
    "cluster_1_corr_cat, cluster_1_corr_num = get_all_corr_cat(\n",
    "    data = clusters_1, \n",
    "    col = 'cluster', \n",
    "    num_cols = numeric_columns, \n",
    "    cat_cols = categorical_columns\n",
    ")"
   ]
  },
  {
   "cell_type": "code",
   "execution_count": 35,
   "metadata": {},
   "outputs": [
    {
     "data": {
      "text/html": [
       "<div>\n",
       "<style scoped>\n",
       "    .dataframe tbody tr th:only-of-type {\n",
       "        vertical-align: middle;\n",
       "    }\n",
       "\n",
       "    .dataframe tbody tr th {\n",
       "        vertical-align: top;\n",
       "    }\n",
       "\n",
       "    .dataframe thead th {\n",
       "        text-align: right;\n",
       "    }\n",
       "</style>\n",
       "<table border=\"1\" class=\"dataframe\">\n",
       "  <thead>\n",
       "    <tr style=\"text-align: right;\">\n",
       "      <th></th>\n",
       "      <th>cluster</th>\n",
       "    </tr>\n",
       "  </thead>\n",
       "  <tbody>\n",
       "    <tr>\n",
       "      <th>cleaned_city</th>\n",
       "      <td>0.163401</td>\n",
       "    </tr>\n",
       "    <tr>\n",
       "      <th>cleaned_department</th>\n",
       "      <td>0.030994</td>\n",
       "    </tr>\n",
       "    <tr>\n",
       "      <th>cleaned_country</th>\n",
       "      <td>0.007028</td>\n",
       "    </tr>\n",
       "  </tbody>\n",
       "</table>\n",
       "</div>"
      ],
      "text/plain": [
       "                     cluster\n",
       "cleaned_city        0.163401\n",
       "cleaned_department  0.030994\n",
       "cleaned_country     0.007028"
      ]
     },
     "execution_count": 35,
     "metadata": {},
     "output_type": "execute_result"
    }
   ],
   "source": [
    "cluster_1_corr_cat.sort_values(by='cluster', ascending=False)"
   ]
  },
  {
   "cell_type": "code",
   "execution_count": 36,
   "metadata": {},
   "outputs": [
    {
     "data": {
      "text/html": [
       "<div>\n",
       "<style scoped>\n",
       "    .dataframe tbody tr th:only-of-type {\n",
       "        vertical-align: middle;\n",
       "    }\n",
       "\n",
       "    .dataframe tbody tr th {\n",
       "        vertical-align: top;\n",
       "    }\n",
       "\n",
       "    .dataframe thead th {\n",
       "        text-align: right;\n",
       "    }\n",
       "</style>\n",
       "<table border=\"1\" class=\"dataframe\">\n",
       "  <thead>\n",
       "    <tr style=\"text-align: right;\">\n",
       "      <th></th>\n",
       "      <th>cluster</th>\n",
       "    </tr>\n",
       "  </thead>\n",
       "  <tbody>\n",
       "    <tr>\n",
       "      <th>buyers</th>\n",
       "      <td>0.0</td>\n",
       "    </tr>\n",
       "    <tr>\n",
       "      <th>suppliers</th>\n",
       "      <td>0.0</td>\n",
       "    </tr>\n",
       "    <tr>\n",
       "      <th>vc</th>\n",
       "      <td>0.0</td>\n",
       "    </tr>\n",
       "  </tbody>\n",
       "</table>\n",
       "</div>"
      ],
      "text/plain": [
       "           cluster\n",
       "buyers         0.0\n",
       "suppliers      0.0\n",
       "vc             0.0"
      ]
     },
     "execution_count": 36,
     "metadata": {},
     "output_type": "execute_result"
    }
   ],
   "source": [
    "cluster_1_corr_num"
   ]
  },
  {
   "cell_type": "markdown",
   "metadata": {},
   "source": [
    "# Question 3\n",
    "\n",
    "Q3: comment interpréter ces classes, que signifient-elles?"
   ]
  },
  {
   "cell_type": "code",
   "execution_count": 39,
   "metadata": {},
   "outputs": [],
   "source": [
    "cleaned_city_corr_data = get_corr_data(\n",
    "    df = clusters_1, \n",
    "    xcol = 'cluster', \n",
    "    ycol = 'cleaned_city'\n",
    ")"
   ]
  },
  {
   "cell_type": "code",
   "execution_count": 40,
   "metadata": {},
   "outputs": [
    {
     "data": {
      "text/html": [
       "<div>\n",
       "<style scoped>\n",
       "    .dataframe tbody tr th:only-of-type {\n",
       "        vertical-align: middle;\n",
       "    }\n",
       "\n",
       "    .dataframe tbody tr th {\n",
       "        vertical-align: top;\n",
       "    }\n",
       "\n",
       "    .dataframe thead th {\n",
       "        text-align: right;\n",
       "    }\n",
       "</style>\n",
       "<table border=\"1\" class=\"dataframe\">\n",
       "  <thead>\n",
       "    <tr style=\"text-align: right;\">\n",
       "      <th>cleaned_city</th>\n",
       "      <th>) BERGERAC</th>\n",
       "      <th>) BORGO ) AJACCIO ) BASTIA</th>\n",
       "      <th>) PINEUIL</th>\n",
       "      <th>***</th>\n",
       "      <th>*****</th>\n",
       "      <th>.</th>\n",
       "      <th>. PESSAC. . NIZEROLLES. . TOULOUSE. . FLOURENS.</th>\n",
       "      <th>; LA CHAPELLE SAINT LUC</th>\n",
       "      <th>A  GRAZ</th>\n",
       "      <th>A  VIENNE</th>\n",
       "      <th>...</th>\n",
       "      <th>ZUID HOLLAND THE NETHERLANDS</th>\n",
       "      <th>ZURICH</th>\n",
       "      <th>ZURICH (SUISSE)</th>\n",
       "      <th>ZUTKERQUE</th>\n",
       "      <th>ZUTPHEN</th>\n",
       "      <th>ZUYDCOOTE</th>\n",
       "      <th>ZUYTPEENE</th>\n",
       "      <th>ZWAAG</th>\n",
       "      <th>ZWIJNDRECHT</th>\n",
       "      <th>Ô DE SELLE</th>\n",
       "    </tr>\n",
       "    <tr>\n",
       "      <th>cluster</th>\n",
       "      <th></th>\n",
       "      <th></th>\n",
       "      <th></th>\n",
       "      <th></th>\n",
       "      <th></th>\n",
       "      <th></th>\n",
       "      <th></th>\n",
       "      <th></th>\n",
       "      <th></th>\n",
       "      <th></th>\n",
       "      <th></th>\n",
       "      <th></th>\n",
       "      <th></th>\n",
       "      <th></th>\n",
       "      <th></th>\n",
       "      <th></th>\n",
       "      <th></th>\n",
       "      <th></th>\n",
       "      <th></th>\n",
       "      <th></th>\n",
       "      <th></th>\n",
       "    </tr>\n",
       "  </thead>\n",
       "  <tbody>\n",
       "    <tr>\n",
       "      <th>0</th>\n",
       "      <td>1</td>\n",
       "      <td>1</td>\n",
       "      <td>1</td>\n",
       "      <td>1</td>\n",
       "      <td>1</td>\n",
       "      <td>1</td>\n",
       "      <td>1</td>\n",
       "      <td>1</td>\n",
       "      <td>1</td>\n",
       "      <td>1</td>\n",
       "      <td>...</td>\n",
       "      <td>1</td>\n",
       "      <td>12</td>\n",
       "      <td>1</td>\n",
       "      <td>3</td>\n",
       "      <td>1</td>\n",
       "      <td>2</td>\n",
       "      <td>1</td>\n",
       "      <td>1</td>\n",
       "      <td>2</td>\n",
       "      <td>2</td>\n",
       "    </tr>\n",
       "    <tr>\n",
       "      <th>1</th>\n",
       "      <td>0</td>\n",
       "      <td>0</td>\n",
       "      <td>0</td>\n",
       "      <td>0</td>\n",
       "      <td>0</td>\n",
       "      <td>0</td>\n",
       "      <td>0</td>\n",
       "      <td>0</td>\n",
       "      <td>0</td>\n",
       "      <td>0</td>\n",
       "      <td>...</td>\n",
       "      <td>0</td>\n",
       "      <td>0</td>\n",
       "      <td>0</td>\n",
       "      <td>0</td>\n",
       "      <td>0</td>\n",
       "      <td>0</td>\n",
       "      <td>0</td>\n",
       "      <td>0</td>\n",
       "      <td>0</td>\n",
       "      <td>0</td>\n",
       "    </tr>\n",
       "    <tr>\n",
       "      <th>2</th>\n",
       "      <td>0</td>\n",
       "      <td>0</td>\n",
       "      <td>0</td>\n",
       "      <td>0</td>\n",
       "      <td>0</td>\n",
       "      <td>0</td>\n",
       "      <td>0</td>\n",
       "      <td>0</td>\n",
       "      <td>0</td>\n",
       "      <td>0</td>\n",
       "      <td>...</td>\n",
       "      <td>0</td>\n",
       "      <td>0</td>\n",
       "      <td>0</td>\n",
       "      <td>0</td>\n",
       "      <td>0</td>\n",
       "      <td>0</td>\n",
       "      <td>0</td>\n",
       "      <td>0</td>\n",
       "      <td>0</td>\n",
       "      <td>0</td>\n",
       "    </tr>\n",
       "    <tr>\n",
       "      <th>3</th>\n",
       "      <td>0</td>\n",
       "      <td>0</td>\n",
       "      <td>0</td>\n",
       "      <td>0</td>\n",
       "      <td>0</td>\n",
       "      <td>0</td>\n",
       "      <td>0</td>\n",
       "      <td>0</td>\n",
       "      <td>0</td>\n",
       "      <td>0</td>\n",
       "      <td>...</td>\n",
       "      <td>0</td>\n",
       "      <td>0</td>\n",
       "      <td>0</td>\n",
       "      <td>0</td>\n",
       "      <td>0</td>\n",
       "      <td>0</td>\n",
       "      <td>0</td>\n",
       "      <td>0</td>\n",
       "      <td>0</td>\n",
       "      <td>0</td>\n",
       "    </tr>\n",
       "  </tbody>\n",
       "</table>\n",
       "<p>4 rows × 22036 columns</p>\n",
       "</div>"
      ],
      "text/plain": [
       "cleaned_city  ) BERGERAC  ) BORGO ) AJACCIO ) BASTIA  ) PINEUIL  ***  *****  \\\n",
       "cluster                                                                       \n",
       "0                      1                           1          1    1      1   \n",
       "1                      0                           0          0    0      0   \n",
       "2                      0                           0          0    0      0   \n",
       "3                      0                           0          0    0      0   \n",
       "\n",
       "cleaned_city  .  . PESSAC. . NIZEROLLES. . TOULOUSE. . FLOURENS.  \\\n",
       "cluster                                                            \n",
       "0             1                                                1   \n",
       "1             0                                                0   \n",
       "2             0                                                0   \n",
       "3             0                                                0   \n",
       "\n",
       "cleaned_city  ; LA CHAPELLE SAINT LUC  A  GRAZ  A  VIENNE  ...  \\\n",
       "cluster                                                    ...   \n",
       "0                                   1        1          1  ...   \n",
       "1                                   0        0          0  ...   \n",
       "2                                   0        0          0  ...   \n",
       "3                                   0        0          0  ...   \n",
       "\n",
       "cleaned_city  ZUID HOLLAND THE NETHERLANDS  ZURICH  ZURICH (SUISSE)  \\\n",
       "cluster                                                               \n",
       "0                                        1      12                1   \n",
       "1                                        0       0                0   \n",
       "2                                        0       0                0   \n",
       "3                                        0       0                0   \n",
       "\n",
       "cleaned_city  ZUTKERQUE  ZUTPHEN  ZUYDCOOTE  ZUYTPEENE  ZWAAG  ZWIJNDRECHT  \\\n",
       "cluster                                                                      \n",
       "0                     3        1          2          1      1            2   \n",
       "1                     0        0          0          0      0            0   \n",
       "2                     0        0          0          0      0            0   \n",
       "3                     0        0          0          0      0            0   \n",
       "\n",
       "cleaned_city  Ô DE SELLE  \n",
       "cluster                   \n",
       "0                      2  \n",
       "1                      0  \n",
       "2                      0  \n",
       "3                      0  \n",
       "\n",
       "[4 rows x 22036 columns]"
      ]
     },
     "execution_count": 40,
     "metadata": {},
     "output_type": "execute_result"
    }
   ],
   "source": [
    "cleaned_city_corr_data"
   ]
  }
 ],
 "metadata": {
  "kernelspec": {
   "display_name": "Python 3",
   "language": "python",
   "name": "python3"
  },
  "language_info": {
   "codemirror_mode": {
    "name": "ipython",
    "version": 3
   },
   "file_extension": ".py",
   "mimetype": "text/x-python",
   "name": "python",
   "nbconvert_exporter": "python",
   "pygments_lexer": "ipython3",
   "version": "3.8.18"
  }
 },
 "nbformat": 4,
 "nbformat_minor": 0
}

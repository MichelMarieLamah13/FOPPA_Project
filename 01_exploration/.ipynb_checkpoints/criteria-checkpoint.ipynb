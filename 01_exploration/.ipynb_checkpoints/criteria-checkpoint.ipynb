{
 "cells": [
  {
   "cell_type": "code",
   "execution_count": 40,
   "metadata": {},
   "outputs": [],
   "source": [
    "from functions.utils import *\n",
    "import warnings\n",
    "\n",
    "warnings.filterwarnings('ignore')"
   ]
  },
  {
   "cell_type": "markdown",
   "metadata": {
    "collapsed": true,
    "jupyter": {
     "outputs_hidden": true
    }
   },
   "source": [
    "# Les attributs"
   ]
  },
  {
   "cell_type": "code",
   "execution_count": 41,
   "metadata": {},
   "outputs": [],
   "source": [
    "Criteria = load_data(path='../donnees/Criteria.csv')"
   ]
  },
  {
   "cell_type": "code",
   "execution_count": 42,
   "metadata": {},
   "outputs": [
    {
     "data": {
      "text/html": [
       "<div>\n",
       "<style scoped>\n",
       "    .dataframe tbody tr th:only-of-type {\n",
       "        vertical-align: middle;\n",
       "    }\n",
       "\n",
       "    .dataframe tbody tr th {\n",
       "        vertical-align: top;\n",
       "    }\n",
       "\n",
       "    .dataframe thead th {\n",
       "        text-align: right;\n",
       "    }\n",
       "</style>\n",
       "<table border=\"1\" class=\"dataframe\">\n",
       "  <thead>\n",
       "    <tr style=\"text-align: right;\">\n",
       "      <th></th>\n",
       "      <th>criterionId</th>\n",
       "      <th>lotId</th>\n",
       "      <th>name</th>\n",
       "      <th>weight</th>\n",
       "      <th>type</th>\n",
       "    </tr>\n",
       "  </thead>\n",
       "  <tbody>\n",
       "    <tr>\n",
       "      <th>0</th>\n",
       "      <td>0</td>\n",
       "      <td>0</td>\n",
       "      <td>PRIX DES PRESTATIONS</td>\n",
       "      <td>40.0</td>\n",
       "      <td>PRICE</td>\n",
       "    </tr>\n",
       "    <tr>\n",
       "      <th>1</th>\n",
       "      <td>1</td>\n",
       "      <td>0</td>\n",
       "      <td>VALEUR TECHNIQUE</td>\n",
       "      <td>40.0</td>\n",
       "      <td>TECHNICAL</td>\n",
       "    </tr>\n",
       "    <tr>\n",
       "      <th>2</th>\n",
       "      <td>2</td>\n",
       "      <td>0</td>\n",
       "      <td>DELAI D'EXECUTION</td>\n",
       "      <td>20.0</td>\n",
       "      <td>DELAY</td>\n",
       "    </tr>\n",
       "    <tr>\n",
       "      <th>3</th>\n",
       "      <td>3</td>\n",
       "      <td>1</td>\n",
       "      <td>PRIX DES PRESTATIONS</td>\n",
       "      <td>40.0</td>\n",
       "      <td>PRICE</td>\n",
       "    </tr>\n",
       "    <tr>\n",
       "      <th>4</th>\n",
       "      <td>4</td>\n",
       "      <td>1</td>\n",
       "      <td>VALEUR TECHNIQUE</td>\n",
       "      <td>40.0</td>\n",
       "      <td>TECHNICAL</td>\n",
       "    </tr>\n",
       "    <tr>\n",
       "      <th>...</th>\n",
       "      <td>...</td>\n",
       "      <td>...</td>\n",
       "      <td>...</td>\n",
       "      <td>...</td>\n",
       "      <td>...</td>\n",
       "    </tr>\n",
       "    <tr>\n",
       "      <th>2910403</th>\n",
       "      <td>2910403</td>\n",
       "      <td>1380955</td>\n",
       "      <td>MOYENS HUMAINS; ORGANISATION GENERALE; GESTION...</td>\n",
       "      <td>50.0</td>\n",
       "      <td>SOCIAL</td>\n",
       "    </tr>\n",
       "    <tr>\n",
       "      <th>2910404</th>\n",
       "      <td>2910404</td>\n",
       "      <td>1380956</td>\n",
       "      <td>PRIX</td>\n",
       "      <td>50.0</td>\n",
       "      <td>PRICE</td>\n",
       "    </tr>\n",
       "    <tr>\n",
       "      <th>2910405</th>\n",
       "      <td>2910405</td>\n",
       "      <td>1380956</td>\n",
       "      <td>MOYENS HUMAINS; ORGANISATION GENERALE; GESTION...</td>\n",
       "      <td>50.0</td>\n",
       "      <td>SOCIAL</td>\n",
       "    </tr>\n",
       "    <tr>\n",
       "      <th>2910406</th>\n",
       "      <td>2910406</td>\n",
       "      <td>1380958</td>\n",
       "      <td>ORGANISATION ET RESSOURCES</td>\n",
       "      <td>50.0</td>\n",
       "      <td>OTHER</td>\n",
       "    </tr>\n",
       "    <tr>\n",
       "      <th>2910407</th>\n",
       "      <td>2910407</td>\n",
       "      <td>1380958</td>\n",
       "      <td>THEMATIQUE URBAINE ARCHITECTURALE PAYSAGERE ET...</td>\n",
       "      <td>50.0</td>\n",
       "      <td>ENVIRONMENTAL</td>\n",
       "    </tr>\n",
       "  </tbody>\n",
       "</table>\n",
       "<p>2910408 rows × 5 columns</p>\n",
       "</div>"
      ],
      "text/plain": [
       "         criterionId    lotId  \\\n",
       "0                  0        0   \n",
       "1                  1        0   \n",
       "2                  2        0   \n",
       "3                  3        1   \n",
       "4                  4        1   \n",
       "...              ...      ...   \n",
       "2910403      2910403  1380955   \n",
       "2910404      2910404  1380956   \n",
       "2910405      2910405  1380956   \n",
       "2910406      2910406  1380958   \n",
       "2910407      2910407  1380958   \n",
       "\n",
       "                                                      name  weight  \\\n",
       "0                                     PRIX DES PRESTATIONS    40.0   \n",
       "1                                         VALEUR TECHNIQUE    40.0   \n",
       "2                                        DELAI D'EXECUTION    20.0   \n",
       "3                                     PRIX DES PRESTATIONS    40.0   \n",
       "4                                         VALEUR TECHNIQUE    40.0   \n",
       "...                                                    ...     ...   \n",
       "2910403  MOYENS HUMAINS; ORGANISATION GENERALE; GESTION...    50.0   \n",
       "2910404                                               PRIX    50.0   \n",
       "2910405  MOYENS HUMAINS; ORGANISATION GENERALE; GESTION...    50.0   \n",
       "2910406                         ORGANISATION ET RESSOURCES    50.0   \n",
       "2910407  THEMATIQUE URBAINE ARCHITECTURALE PAYSAGERE ET...    50.0   \n",
       "\n",
       "                  type  \n",
       "0                PRICE  \n",
       "1            TECHNICAL  \n",
       "2                DELAY  \n",
       "3                PRICE  \n",
       "4            TECHNICAL  \n",
       "...                ...  \n",
       "2910403         SOCIAL  \n",
       "2910404          PRICE  \n",
       "2910405         SOCIAL  \n",
       "2910406          OTHER  \n",
       "2910407  ENVIRONMENTAL  \n",
       "\n",
       "[2910408 rows x 5 columns]"
      ]
     },
     "execution_count": 42,
     "metadata": {},
     "output_type": "execute_result"
    }
   ],
   "source": [
    "Criteria"
   ]
  },
  {
   "cell_type": "code",
   "execution_count": 43,
   "metadata": {},
   "outputs": [],
   "source": [
    "Criteria_dtypes = get_dtypes(Criteria)"
   ]
  },
  {
   "cell_type": "code",
   "execution_count": 44,
   "metadata": {
    "scrolled": true
   },
   "outputs": [
    {
     "data": {
      "text/html": [
       "<div>\n",
       "<style scoped>\n",
       "    .dataframe tbody tr th:only-of-type {\n",
       "        vertical-align: middle;\n",
       "    }\n",
       "\n",
       "    .dataframe tbody tr th {\n",
       "        vertical-align: top;\n",
       "    }\n",
       "\n",
       "    .dataframe thead th {\n",
       "        text-align: right;\n",
       "    }\n",
       "</style>\n",
       "<table border=\"1\" class=\"dataframe\">\n",
       "  <thead>\n",
       "    <tr style=\"text-align: right;\">\n",
       "      <th></th>\n",
       "      <th>attribut</th>\n",
       "      <th>type</th>\n",
       "    </tr>\n",
       "  </thead>\n",
       "  <tbody>\n",
       "    <tr>\n",
       "      <th>0</th>\n",
       "      <td>criterionId</td>\n",
       "      <td>int64</td>\n",
       "    </tr>\n",
       "    <tr>\n",
       "      <th>1</th>\n",
       "      <td>lotId</td>\n",
       "      <td>int64</td>\n",
       "    </tr>\n",
       "    <tr>\n",
       "      <th>2</th>\n",
       "      <td>name</td>\n",
       "      <td>object</td>\n",
       "    </tr>\n",
       "    <tr>\n",
       "      <th>3</th>\n",
       "      <td>weight</td>\n",
       "      <td>float64</td>\n",
       "    </tr>\n",
       "    <tr>\n",
       "      <th>4</th>\n",
       "      <td>type</td>\n",
       "      <td>object</td>\n",
       "    </tr>\n",
       "  </tbody>\n",
       "</table>\n",
       "</div>"
      ],
      "text/plain": [
       "      attribut     type\n",
       "0  criterionId    int64\n",
       "1        lotId    int64\n",
       "2         name   object\n",
       "3       weight  float64\n",
       "4         type   object"
      ]
     },
     "execution_count": 44,
     "metadata": {},
     "output_type": "execute_result"
    }
   ],
   "source": [
    "Criteria_dtypes"
   ]
  },
  {
   "cell_type": "markdown",
   "metadata": {},
   "source": [
    "# Attribut criterionId"
   ]
  },
  {
   "cell_type": "code",
   "execution_count": 45,
   "metadata": {},
   "outputs": [],
   "source": [
    "criterionId = Criteria[['criterionId']]"
   ]
  },
  {
   "cell_type": "code",
   "execution_count": 46,
   "metadata": {},
   "outputs": [
    {
     "data": {
      "text/html": [
       "<div>\n",
       "<style scoped>\n",
       "    .dataframe tbody tr th:only-of-type {\n",
       "        vertical-align: middle;\n",
       "    }\n",
       "\n",
       "    .dataframe tbody tr th {\n",
       "        vertical-align: top;\n",
       "    }\n",
       "\n",
       "    .dataframe thead th {\n",
       "        text-align: right;\n",
       "    }\n",
       "</style>\n",
       "<table border=\"1\" class=\"dataframe\">\n",
       "  <thead>\n",
       "    <tr style=\"text-align: right;\">\n",
       "      <th></th>\n",
       "      <th>criterionId</th>\n",
       "    </tr>\n",
       "  </thead>\n",
       "  <tbody>\n",
       "    <tr>\n",
       "      <th>0</th>\n",
       "      <td>0</td>\n",
       "    </tr>\n",
       "    <tr>\n",
       "      <th>1</th>\n",
       "      <td>1</td>\n",
       "    </tr>\n",
       "    <tr>\n",
       "      <th>2</th>\n",
       "      <td>2</td>\n",
       "    </tr>\n",
       "    <tr>\n",
       "      <th>3</th>\n",
       "      <td>3</td>\n",
       "    </tr>\n",
       "    <tr>\n",
       "      <th>4</th>\n",
       "      <td>4</td>\n",
       "    </tr>\n",
       "    <tr>\n",
       "      <th>...</th>\n",
       "      <td>...</td>\n",
       "    </tr>\n",
       "    <tr>\n",
       "      <th>2910403</th>\n",
       "      <td>2910403</td>\n",
       "    </tr>\n",
       "    <tr>\n",
       "      <th>2910404</th>\n",
       "      <td>2910404</td>\n",
       "    </tr>\n",
       "    <tr>\n",
       "      <th>2910405</th>\n",
       "      <td>2910405</td>\n",
       "    </tr>\n",
       "    <tr>\n",
       "      <th>2910406</th>\n",
       "      <td>2910406</td>\n",
       "    </tr>\n",
       "    <tr>\n",
       "      <th>2910407</th>\n",
       "      <td>2910407</td>\n",
       "    </tr>\n",
       "  </tbody>\n",
       "</table>\n",
       "<p>2910408 rows × 1 columns</p>\n",
       "</div>"
      ],
      "text/plain": [
       "         criterionId\n",
       "0                  0\n",
       "1                  1\n",
       "2                  2\n",
       "3                  3\n",
       "4                  4\n",
       "...              ...\n",
       "2910403      2910403\n",
       "2910404      2910404\n",
       "2910405      2910405\n",
       "2910406      2910406\n",
       "2910407      2910407\n",
       "\n",
       "[2910408 rows x 1 columns]"
      ]
     },
     "execution_count": 46,
     "metadata": {},
     "output_type": "execute_result"
    }
   ],
   "source": [
    "criterionId"
   ]
  },
  {
   "cell_type": "code",
   "execution_count": 47,
   "metadata": {},
   "outputs": [],
   "source": [
    "criterionId_vc = get_vc(Criteria, column='criterionId')"
   ]
  },
  {
   "cell_type": "code",
   "execution_count": 48,
   "metadata": {},
   "outputs": [
    {
     "data": {
      "text/html": [
       "<div>\n",
       "<style scoped>\n",
       "    .dataframe tbody tr th:only-of-type {\n",
       "        vertical-align: middle;\n",
       "    }\n",
       "\n",
       "    .dataframe tbody tr th {\n",
       "        vertical-align: top;\n",
       "    }\n",
       "\n",
       "    .dataframe thead th {\n",
       "        text-align: right;\n",
       "    }\n",
       "</style>\n",
       "<table border=\"1\" class=\"dataframe\">\n",
       "  <thead>\n",
       "    <tr style=\"text-align: right;\">\n",
       "      <th></th>\n",
       "      <th>valeur</th>\n",
       "      <th>count</th>\n",
       "      <th>proportion</th>\n",
       "    </tr>\n",
       "  </thead>\n",
       "  <tbody>\n",
       "    <tr>\n",
       "      <th>0</th>\n",
       "      <td>0</td>\n",
       "      <td>1</td>\n",
       "      <td>0.000034</td>\n",
       "    </tr>\n",
       "    <tr>\n",
       "      <th>1</th>\n",
       "      <td>1940242</td>\n",
       "      <td>1</td>\n",
       "      <td>0.000034</td>\n",
       "    </tr>\n",
       "    <tr>\n",
       "      <th>2</th>\n",
       "      <td>1940266</td>\n",
       "      <td>1</td>\n",
       "      <td>0.000034</td>\n",
       "    </tr>\n",
       "    <tr>\n",
       "      <th>3</th>\n",
       "      <td>1940267</td>\n",
       "      <td>1</td>\n",
       "      <td>0.000034</td>\n",
       "    </tr>\n",
       "    <tr>\n",
       "      <th>4</th>\n",
       "      <td>1940268</td>\n",
       "      <td>1</td>\n",
       "      <td>0.000034</td>\n",
       "    </tr>\n",
       "    <tr>\n",
       "      <th>...</th>\n",
       "      <td>...</td>\n",
       "      <td>...</td>\n",
       "      <td>...</td>\n",
       "    </tr>\n",
       "    <tr>\n",
       "      <th>2910403</th>\n",
       "      <td>970138</td>\n",
       "      <td>1</td>\n",
       "      <td>0.000034</td>\n",
       "    </tr>\n",
       "    <tr>\n",
       "      <th>2910404</th>\n",
       "      <td>970139</td>\n",
       "      <td>1</td>\n",
       "      <td>0.000034</td>\n",
       "    </tr>\n",
       "    <tr>\n",
       "      <th>2910405</th>\n",
       "      <td>970140</td>\n",
       "      <td>1</td>\n",
       "      <td>0.000034</td>\n",
       "    </tr>\n",
       "    <tr>\n",
       "      <th>2910406</th>\n",
       "      <td>970141</td>\n",
       "      <td>1</td>\n",
       "      <td>0.000034</td>\n",
       "    </tr>\n",
       "    <tr>\n",
       "      <th>2910407</th>\n",
       "      <td>2910407</td>\n",
       "      <td>1</td>\n",
       "      <td>0.000034</td>\n",
       "    </tr>\n",
       "  </tbody>\n",
       "</table>\n",
       "<p>2910408 rows × 3 columns</p>\n",
       "</div>"
      ],
      "text/plain": [
       "          valeur  count  proportion\n",
       "0              0      1    0.000034\n",
       "1        1940242      1    0.000034\n",
       "2        1940266      1    0.000034\n",
       "3        1940267      1    0.000034\n",
       "4        1940268      1    0.000034\n",
       "...          ...    ...         ...\n",
       "2910403   970138      1    0.000034\n",
       "2910404   970139      1    0.000034\n",
       "2910405   970140      1    0.000034\n",
       "2910406   970141      1    0.000034\n",
       "2910407  2910407      1    0.000034\n",
       "\n",
       "[2910408 rows x 3 columns]"
      ]
     },
     "execution_count": 48,
     "metadata": {},
     "output_type": "execute_result"
    }
   ],
   "source": [
    "criterionId_vc"
   ]
  },
  {
   "cell_type": "code",
   "execution_count": 49,
   "metadata": {},
   "outputs": [],
   "source": [
    "criterionId_na = get_na(Criteria, column='criterionId')"
   ]
  },
  {
   "cell_type": "code",
   "execution_count": 50,
   "metadata": {},
   "outputs": [
    {
     "data": {
      "text/html": [
       "<div>\n",
       "<style scoped>\n",
       "    .dataframe tbody tr th:only-of-type {\n",
       "        vertical-align: middle;\n",
       "    }\n",
       "\n",
       "    .dataframe tbody tr th {\n",
       "        vertical-align: top;\n",
       "    }\n",
       "\n",
       "    .dataframe thead th {\n",
       "        text-align: right;\n",
       "    }\n",
       "</style>\n",
       "<table border=\"1\" class=\"dataframe\">\n",
       "  <thead>\n",
       "    <tr style=\"text-align: right;\">\n",
       "      <th></th>\n",
       "      <th>attribut</th>\n",
       "      <th>count</th>\n",
       "      <th>proportion</th>\n",
       "    </tr>\n",
       "  </thead>\n",
       "  <tbody>\n",
       "    <tr>\n",
       "      <th>0</th>\n",
       "      <td>manque</td>\n",
       "      <td>0</td>\n",
       "      <td>0.0</td>\n",
       "    </tr>\n",
       "    <tr>\n",
       "      <th>1</th>\n",
       "      <td>exist</td>\n",
       "      <td>2910408</td>\n",
       "      <td>100.0</td>\n",
       "    </tr>\n",
       "  </tbody>\n",
       "</table>\n",
       "</div>"
      ],
      "text/plain": [
       "  attribut    count  proportion\n",
       "0   manque        0         0.0\n",
       "1    exist  2910408       100.0"
      ]
     },
     "execution_count": 50,
     "metadata": {},
     "output_type": "execute_result"
    }
   ],
   "source": [
    "criterionId_na"
   ]
  },
  {
   "cell_type": "markdown",
   "metadata": {},
   "source": [
    "Pas de valeurs manquantes ce qui est essentiel, car cela assure l'intégrité des données et permet des analyses ou des jointures de tables sans risque d'exclure des valeurs en raison de valeurs criterionId manquantes."
   ]
  },
  {
   "cell_type": "code",
   "execution_count": 80,
   "metadata": {},
   "outputs": [],
   "source": [
    "criterionId_d= criterionId.value_counts()"
   ]
  },
  {
   "cell_type": "code",
   "execution_count": 81,
   "metadata": {},
   "outputs": [
    {
     "data": {
      "text/plain": [
       "criterionId\n",
       "0              1\n",
       "1940242        1\n",
       "1940266        1\n",
       "1940267        1\n",
       "1940268        1\n",
       "              ..\n",
       "970138         1\n",
       "970139         1\n",
       "970140         1\n",
       "970141         1\n",
       "2910407        1\n",
       "Name: count, Length: 2910408, dtype: int64"
      ]
     },
     "execution_count": 81,
     "metadata": {},
     "output_type": "execute_result"
    }
   ],
   "source": [
    "criterionId_d"
   ]
  },
  {
   "cell_type": "code",
   "execution_count": 82,
   "metadata": {},
   "outputs": [
    {
     "data": {
      "text/plain": [
       "Series([], Name: count, dtype: int64)"
      ]
     },
     "execution_count": 82,
     "metadata": {},
     "output_type": "execute_result"
    }
   ],
   "source": [
    "criterionId_d[criterionId_d>1]"
   ]
  },
  {
   "cell_type": "markdown",
   "metadata": {},
   "source": [
    "Il y a pas de valeurs dupliquées, ce qui confirme l'unicité des valeurs.\n",
    "Pour cet attribut, vu que les valeurs sont uniques, ce qui signifie qu'ils n'ont pas une distribution de valeurs utile à visualiser comme pour les variables numériques continues ou catégorielles."
   ]
  },
  {
   "cell_type": "markdown",
   "metadata": {},
   "source": [
    "# Attribut type"
   ]
  },
  {
   "cell_type": "code",
   "execution_count": 51,
   "metadata": {},
   "outputs": [],
   "source": [
    "Type = Criteria[['type']]"
   ]
  },
  {
   "cell_type": "code",
   "execution_count": 52,
   "metadata": {},
   "outputs": [
    {
     "data": {
      "text/html": [
       "<div>\n",
       "<style scoped>\n",
       "    .dataframe tbody tr th:only-of-type {\n",
       "        vertical-align: middle;\n",
       "    }\n",
       "\n",
       "    .dataframe tbody tr th {\n",
       "        vertical-align: top;\n",
       "    }\n",
       "\n",
       "    .dataframe thead th {\n",
       "        text-align: right;\n",
       "    }\n",
       "</style>\n",
       "<table border=\"1\" class=\"dataframe\">\n",
       "  <thead>\n",
       "    <tr style=\"text-align: right;\">\n",
       "      <th></th>\n",
       "      <th>type</th>\n",
       "    </tr>\n",
       "  </thead>\n",
       "  <tbody>\n",
       "    <tr>\n",
       "      <th>0</th>\n",
       "      <td>PRICE</td>\n",
       "    </tr>\n",
       "    <tr>\n",
       "      <th>1</th>\n",
       "      <td>TECHNICAL</td>\n",
       "    </tr>\n",
       "    <tr>\n",
       "      <th>2</th>\n",
       "      <td>DELAY</td>\n",
       "    </tr>\n",
       "    <tr>\n",
       "      <th>3</th>\n",
       "      <td>PRICE</td>\n",
       "    </tr>\n",
       "    <tr>\n",
       "      <th>4</th>\n",
       "      <td>TECHNICAL</td>\n",
       "    </tr>\n",
       "    <tr>\n",
       "      <th>...</th>\n",
       "      <td>...</td>\n",
       "    </tr>\n",
       "    <tr>\n",
       "      <th>2910403</th>\n",
       "      <td>SOCIAL</td>\n",
       "    </tr>\n",
       "    <tr>\n",
       "      <th>2910404</th>\n",
       "      <td>PRICE</td>\n",
       "    </tr>\n",
       "    <tr>\n",
       "      <th>2910405</th>\n",
       "      <td>SOCIAL</td>\n",
       "    </tr>\n",
       "    <tr>\n",
       "      <th>2910406</th>\n",
       "      <td>OTHER</td>\n",
       "    </tr>\n",
       "    <tr>\n",
       "      <th>2910407</th>\n",
       "      <td>ENVIRONMENTAL</td>\n",
       "    </tr>\n",
       "  </tbody>\n",
       "</table>\n",
       "<p>2910408 rows × 1 columns</p>\n",
       "</div>"
      ],
      "text/plain": [
       "                  type\n",
       "0                PRICE\n",
       "1            TECHNICAL\n",
       "2                DELAY\n",
       "3                PRICE\n",
       "4            TECHNICAL\n",
       "...                ...\n",
       "2910403         SOCIAL\n",
       "2910404          PRICE\n",
       "2910405         SOCIAL\n",
       "2910406          OTHER\n",
       "2910407  ENVIRONMENTAL\n",
       "\n",
       "[2910408 rows x 1 columns]"
      ]
     },
     "execution_count": 52,
     "metadata": {},
     "output_type": "execute_result"
    }
   ],
   "source": [
    "Type"
   ]
  },
  {
   "cell_type": "code",
   "execution_count": 53,
   "metadata": {},
   "outputs": [],
   "source": [
    "Type_vc = get_vc(Criteria, column='type')"
   ]
  },
  {
   "cell_type": "code",
   "execution_count": 54,
   "metadata": {},
   "outputs": [
    {
     "data": {
      "text/html": [
       "<div>\n",
       "<style scoped>\n",
       "    .dataframe tbody tr th:only-of-type {\n",
       "        vertical-align: middle;\n",
       "    }\n",
       "\n",
       "    .dataframe tbody tr th {\n",
       "        vertical-align: top;\n",
       "    }\n",
       "\n",
       "    .dataframe thead th {\n",
       "        text-align: right;\n",
       "    }\n",
       "</style>\n",
       "<table border=\"1\" class=\"dataframe\">\n",
       "  <thead>\n",
       "    <tr style=\"text-align: right;\">\n",
       "      <th></th>\n",
       "      <th>valeur</th>\n",
       "      <th>count</th>\n",
       "      <th>proportion</th>\n",
       "    </tr>\n",
       "  </thead>\n",
       "  <tbody>\n",
       "    <tr>\n",
       "      <th>0</th>\n",
       "      <td>TECHNICAL</td>\n",
       "      <td>1098843</td>\n",
       "      <td>37.755634</td>\n",
       "    </tr>\n",
       "    <tr>\n",
       "      <th>1</th>\n",
       "      <td>PRICE</td>\n",
       "      <td>1086700</td>\n",
       "      <td>37.338408</td>\n",
       "    </tr>\n",
       "    <tr>\n",
       "      <th>2</th>\n",
       "      <td>OTHER</td>\n",
       "      <td>384431</td>\n",
       "      <td>13.208835</td>\n",
       "    </tr>\n",
       "    <tr>\n",
       "      <th>3</th>\n",
       "      <td>DELAY</td>\n",
       "      <td>158923</td>\n",
       "      <td>5.460506</td>\n",
       "    </tr>\n",
       "    <tr>\n",
       "      <th>4</th>\n",
       "      <td>ENVIRONMENTAL</td>\n",
       "      <td>152911</td>\n",
       "      <td>5.253937</td>\n",
       "    </tr>\n",
       "    <tr>\n",
       "      <th>5</th>\n",
       "      <td>SOCIAL</td>\n",
       "      <td>28600</td>\n",
       "      <td>0.982680</td>\n",
       "    </tr>\n",
       "  </tbody>\n",
       "</table>\n",
       "</div>"
      ],
      "text/plain": [
       "          valeur    count  proportion\n",
       "0      TECHNICAL  1098843   37.755634\n",
       "1          PRICE  1086700   37.338408\n",
       "2          OTHER   384431   13.208835\n",
       "3          DELAY   158923    5.460506\n",
       "4  ENVIRONMENTAL   152911    5.253937\n",
       "5         SOCIAL    28600    0.982680"
      ]
     },
     "execution_count": 54,
     "metadata": {},
     "output_type": "execute_result"
    }
   ],
   "source": [
    "Type_vc"
   ]
  },
  {
   "cell_type": "code",
   "execution_count": 84,
   "metadata": {},
   "outputs": [
    {
     "data": {
      "image/png": "[encoded data removed]",
      "text/plain": [
       "<Figure size 1000x600 with 1 Axes>"
      ]
     },
     "metadata": {},
     "output_type": "display_data"
    }
   ],
   "source": [
    "type_frequency = {\n",
    "    'TECHNICAL': 1098843,\n",
    "    'PRICE': 1086700,\n",
    "    'OTHER': 384431,\n",
    "    'DELAY': 158923,\n",
    "    'ENVIRONMENTAL': 152911,\n",
    "    'SOCIAL': 28600\n",
    "}\n",
    "\n",
    "df_frequency = pd.DataFrame(list(type_frequency.items()), columns=['Type', 'Fréquence'])\n",
    "\n",
    "df_frequency = df_frequency.sort_values(by='Fréquence', ascending=False)\n",
    "\n",
    "plt.figure(figsize=(10, 6))\n",
    "plt.bar(df_frequency['Type'], df_frequency['Fréquence'], color='skyblue')\n",
    "plt.title('Fréquence des Types de Critères')\n",
    "plt.xlabel('Type de Critère')\n",
    "plt.ylabel('Fréquence')\n",
    "plt.xticks(rotation=45)\n",
    "plt.grid(axis='y')\n",
    "plt.tight_layout()\n",
    "plt.show()\n"
   ]
  },
  {
   "cell_type": "markdown",
   "metadata": {},
   "source": [
    "Les catégories TECHNIQUE et PRIX semblent être les plus fréquentes."
   ]
  },
  {
   "cell_type": "code",
   "execution_count": 55,
   "metadata": {},
   "outputs": [],
   "source": [
    "tedCanId_na = get_na(Criteria, column='type')"
   ]
  },
  {
   "cell_type": "code",
   "execution_count": 56,
   "metadata": {},
   "outputs": [
    {
     "data": {
      "text/html": [
       "<div>\n",
       "<style scoped>\n",
       "    .dataframe tbody tr th:only-of-type {\n",
       "        vertical-align: middle;\n",
       "    }\n",
       "\n",
       "    .dataframe tbody tr th {\n",
       "        vertical-align: top;\n",
       "    }\n",
       "\n",
       "    .dataframe thead th {\n",
       "        text-align: right;\n",
       "    }\n",
       "</style>\n",
       "<table border=\"1\" class=\"dataframe\">\n",
       "  <thead>\n",
       "    <tr style=\"text-align: right;\">\n",
       "      <th></th>\n",
       "      <th>attribut</th>\n",
       "      <th>count</th>\n",
       "      <th>proportion</th>\n",
       "    </tr>\n",
       "  </thead>\n",
       "  <tbody>\n",
       "    <tr>\n",
       "      <th>0</th>\n",
       "      <td>manque</td>\n",
       "      <td>0</td>\n",
       "      <td>0.0</td>\n",
       "    </tr>\n",
       "    <tr>\n",
       "      <th>1</th>\n",
       "      <td>exist</td>\n",
       "      <td>2910408</td>\n",
       "      <td>100.0</td>\n",
       "    </tr>\n",
       "  </tbody>\n",
       "</table>\n",
       "</div>"
      ],
      "text/plain": [
       "  attribut    count  proportion\n",
       "0   manque        0         0.0\n",
       "1    exist  2910408       100.0"
      ]
     },
     "execution_count": 56,
     "metadata": {},
     "output_type": "execute_result"
    }
   ],
   "source": [
    "tedCanId_na"
   ]
  },
  {
   "cell_type": "markdown",
   "metadata": {},
   "source": [
    "# Attribut lotId"
   ]
  },
  {
   "cell_type": "markdown",
   "metadata": {},
   "source": [
    "Même chose que **criterionId** les valeurs sont numériques, mais l'attribut est catégoriel car les valeurs servent à identifier de manière unique chaque Lot plutôt qu'à représenter une mesure ou une quantité."
   ]
  },
  {
   "cell_type": "code",
   "execution_count": 57,
   "metadata": {},
   "outputs": [],
   "source": [
    "lotId = Criteria[['lotId']]"
   ]
  },
  {
   "cell_type": "code",
   "execution_count": 58,
   "metadata": {},
   "outputs": [
    {
     "data": {
      "text/html": [
       "<div>\n",
       "<style scoped>\n",
       "    .dataframe tbody tr th:only-of-type {\n",
       "        vertical-align: middle;\n",
       "    }\n",
       "\n",
       "    .dataframe tbody tr th {\n",
       "        vertical-align: top;\n",
       "    }\n",
       "\n",
       "    .dataframe thead th {\n",
       "        text-align: right;\n",
       "    }\n",
       "</style>\n",
       "<table border=\"1\" class=\"dataframe\">\n",
       "  <thead>\n",
       "    <tr style=\"text-align: right;\">\n",
       "      <th></th>\n",
       "      <th>lotId</th>\n",
       "    </tr>\n",
       "  </thead>\n",
       "  <tbody>\n",
       "    <tr>\n",
       "      <th>0</th>\n",
       "      <td>0</td>\n",
       "    </tr>\n",
       "    <tr>\n",
       "      <th>1</th>\n",
       "      <td>0</td>\n",
       "    </tr>\n",
       "    <tr>\n",
       "      <th>2</th>\n",
       "      <td>0</td>\n",
       "    </tr>\n",
       "    <tr>\n",
       "      <th>3</th>\n",
       "      <td>1</td>\n",
       "    </tr>\n",
       "    <tr>\n",
       "      <th>4</th>\n",
       "      <td>1</td>\n",
       "    </tr>\n",
       "    <tr>\n",
       "      <th>...</th>\n",
       "      <td>...</td>\n",
       "    </tr>\n",
       "    <tr>\n",
       "      <th>2910403</th>\n",
       "      <td>1380955</td>\n",
       "    </tr>\n",
       "    <tr>\n",
       "      <th>2910404</th>\n",
       "      <td>1380956</td>\n",
       "    </tr>\n",
       "    <tr>\n",
       "      <th>2910405</th>\n",
       "      <td>1380956</td>\n",
       "    </tr>\n",
       "    <tr>\n",
       "      <th>2910406</th>\n",
       "      <td>1380958</td>\n",
       "    </tr>\n",
       "    <tr>\n",
       "      <th>2910407</th>\n",
       "      <td>1380958</td>\n",
       "    </tr>\n",
       "  </tbody>\n",
       "</table>\n",
       "<p>2910408 rows × 1 columns</p>\n",
       "</div>"
      ],
      "text/plain": [
       "           lotId\n",
       "0              0\n",
       "1              0\n",
       "2              0\n",
       "3              1\n",
       "4              1\n",
       "...          ...\n",
       "2910403  1380955\n",
       "2910404  1380956\n",
       "2910405  1380956\n",
       "2910406  1380958\n",
       "2910407  1380958\n",
       "\n",
       "[2910408 rows x 1 columns]"
      ]
     },
     "execution_count": 58,
     "metadata": {},
     "output_type": "execute_result"
    }
   ],
   "source": [
    "lotId"
   ]
  },
  {
   "cell_type": "code",
   "execution_count": 59,
   "metadata": {},
   "outputs": [],
   "source": [
    "lotId_vc = get_vc(Criteria, column='lotId')"
   ]
  },
  {
   "cell_type": "code",
   "execution_count": 60,
   "metadata": {},
   "outputs": [
    {
     "data": {
      "text/html": [
       "<div>\n",
       "<style scoped>\n",
       "    .dataframe tbody tr th:only-of-type {\n",
       "        vertical-align: middle;\n",
       "    }\n",
       "\n",
       "    .dataframe tbody tr th {\n",
       "        vertical-align: top;\n",
       "    }\n",
       "\n",
       "    .dataframe thead th {\n",
       "        text-align: right;\n",
       "    }\n",
       "</style>\n",
       "<table border=\"1\" class=\"dataframe\">\n",
       "  <thead>\n",
       "    <tr style=\"text-align: right;\">\n",
       "      <th></th>\n",
       "      <th>valeur</th>\n",
       "      <th>count</th>\n",
       "      <th>proportion</th>\n",
       "    </tr>\n",
       "  </thead>\n",
       "  <tbody>\n",
       "    <tr>\n",
       "      <th>0</th>\n",
       "      <td>448597</td>\n",
       "      <td>87</td>\n",
       "      <td>0.002989</td>\n",
       "    </tr>\n",
       "    <tr>\n",
       "      <th>1</th>\n",
       "      <td>448586</td>\n",
       "      <td>87</td>\n",
       "      <td>0.002989</td>\n",
       "    </tr>\n",
       "    <tr>\n",
       "      <th>2</th>\n",
       "      <td>448588</td>\n",
       "      <td>87</td>\n",
       "      <td>0.002989</td>\n",
       "    </tr>\n",
       "    <tr>\n",
       "      <th>3</th>\n",
       "      <td>448589</td>\n",
       "      <td>87</td>\n",
       "      <td>0.002989</td>\n",
       "    </tr>\n",
       "    <tr>\n",
       "      <th>4</th>\n",
       "      <td>448590</td>\n",
       "      <td>87</td>\n",
       "      <td>0.002989</td>\n",
       "    </tr>\n",
       "    <tr>\n",
       "      <th>...</th>\n",
       "      <td>...</td>\n",
       "      <td>...</td>\n",
       "      <td>...</td>\n",
       "    </tr>\n",
       "    <tr>\n",
       "      <th>1041237</th>\n",
       "      <td>1194472</td>\n",
       "      <td>1</td>\n",
       "      <td>0.000034</td>\n",
       "    </tr>\n",
       "    <tr>\n",
       "      <th>1041238</th>\n",
       "      <td>1194471</td>\n",
       "      <td>1</td>\n",
       "      <td>0.000034</td>\n",
       "    </tr>\n",
       "    <tr>\n",
       "      <th>1041239</th>\n",
       "      <td>622421</td>\n",
       "      <td>1</td>\n",
       "      <td>0.000034</td>\n",
       "    </tr>\n",
       "    <tr>\n",
       "      <th>1041240</th>\n",
       "      <td>789536</td>\n",
       "      <td>1</td>\n",
       "      <td>0.000034</td>\n",
       "    </tr>\n",
       "    <tr>\n",
       "      <th>1041241</th>\n",
       "      <td>1070464</td>\n",
       "      <td>1</td>\n",
       "      <td>0.000034</td>\n",
       "    </tr>\n",
       "  </tbody>\n",
       "</table>\n",
       "<p>1041242 rows × 3 columns</p>\n",
       "</div>"
      ],
      "text/plain": [
       "          valeur  count  proportion\n",
       "0         448597     87    0.002989\n",
       "1         448586     87    0.002989\n",
       "2         448588     87    0.002989\n",
       "3         448589     87    0.002989\n",
       "4         448590     87    0.002989\n",
       "...          ...    ...         ...\n",
       "1041237  1194472      1    0.000034\n",
       "1041238  1194471      1    0.000034\n",
       "1041239   622421      1    0.000034\n",
       "1041240   789536      1    0.000034\n",
       "1041241  1070464      1    0.000034\n",
       "\n",
       "[1041242 rows x 3 columns]"
      ]
     },
     "execution_count": 60,
     "metadata": {},
     "output_type": "execute_result"
    }
   ],
   "source": [
    "lotId_vc"
   ]
  },
  {
   "cell_type": "code",
   "execution_count": 61,
   "metadata": {},
   "outputs": [],
   "source": [
    "lotId_na = get_na(Criteria, column='lotId')"
   ]
  },
  {
   "cell_type": "code",
   "execution_count": 62,
   "metadata": {},
   "outputs": [
    {
     "data": {
      "text/html": [
       "<div>\n",
       "<style scoped>\n",
       "    .dataframe tbody tr th:only-of-type {\n",
       "        vertical-align: middle;\n",
       "    }\n",
       "\n",
       "    .dataframe tbody tr th {\n",
       "        vertical-align: top;\n",
       "    }\n",
       "\n",
       "    .dataframe thead th {\n",
       "        text-align: right;\n",
       "    }\n",
       "</style>\n",
       "<table border=\"1\" class=\"dataframe\">\n",
       "  <thead>\n",
       "    <tr style=\"text-align: right;\">\n",
       "      <th></th>\n",
       "      <th>attribut</th>\n",
       "      <th>count</th>\n",
       "      <th>proportion</th>\n",
       "    </tr>\n",
       "  </thead>\n",
       "  <tbody>\n",
       "    <tr>\n",
       "      <th>0</th>\n",
       "      <td>manque</td>\n",
       "      <td>0</td>\n",
       "      <td>0.0</td>\n",
       "    </tr>\n",
       "    <tr>\n",
       "      <th>1</th>\n",
       "      <td>exist</td>\n",
       "      <td>2910408</td>\n",
       "      <td>100.0</td>\n",
       "    </tr>\n",
       "  </tbody>\n",
       "</table>\n",
       "</div>"
      ],
      "text/plain": [
       "  attribut    count  proportion\n",
       "0   manque        0         0.0\n",
       "1    exist  2910408       100.0"
      ]
     },
     "execution_count": 62,
     "metadata": {},
     "output_type": "execute_result"
    }
   ],
   "source": [
    "lotId_na"
   ]
  },
  {
   "cell_type": "markdown",
   "metadata": {},
   "source": [
    "# Attribut name"
   ]
  },
  {
   "cell_type": "code",
   "execution_count": 63,
   "metadata": {},
   "outputs": [],
   "source": [
    "name = Criteria[['name']]"
   ]
  },
  {
   "cell_type": "code",
   "execution_count": 64,
   "metadata": {},
   "outputs": [
    {
     "data": {
      "text/html": [
       "<div>\n",
       "<style scoped>\n",
       "    .dataframe tbody tr th:only-of-type {\n",
       "        vertical-align: middle;\n",
       "    }\n",
       "\n",
       "    .dataframe tbody tr th {\n",
       "        vertical-align: top;\n",
       "    }\n",
       "\n",
       "    .dataframe thead th {\n",
       "        text-align: right;\n",
       "    }\n",
       "</style>\n",
       "<table border=\"1\" class=\"dataframe\">\n",
       "  <thead>\n",
       "    <tr style=\"text-align: right;\">\n",
       "      <th></th>\n",
       "      <th>name</th>\n",
       "    </tr>\n",
       "  </thead>\n",
       "  <tbody>\n",
       "    <tr>\n",
       "      <th>0</th>\n",
       "      <td>PRIX DES PRESTATIONS</td>\n",
       "    </tr>\n",
       "    <tr>\n",
       "      <th>1</th>\n",
       "      <td>VALEUR TECHNIQUE</td>\n",
       "    </tr>\n",
       "    <tr>\n",
       "      <th>2</th>\n",
       "      <td>DELAI D'EXECUTION</td>\n",
       "    </tr>\n",
       "    <tr>\n",
       "      <th>3</th>\n",
       "      <td>PRIX DES PRESTATIONS</td>\n",
       "    </tr>\n",
       "    <tr>\n",
       "      <th>4</th>\n",
       "      <td>VALEUR TECHNIQUE</td>\n",
       "    </tr>\n",
       "    <tr>\n",
       "      <th>...</th>\n",
       "      <td>...</td>\n",
       "    </tr>\n",
       "    <tr>\n",
       "      <th>2910403</th>\n",
       "      <td>MOYENS HUMAINS; ORGANISATION GENERALE; GESTION...</td>\n",
       "    </tr>\n",
       "    <tr>\n",
       "      <th>2910404</th>\n",
       "      <td>PRIX</td>\n",
       "    </tr>\n",
       "    <tr>\n",
       "      <th>2910405</th>\n",
       "      <td>MOYENS HUMAINS; ORGANISATION GENERALE; GESTION...</td>\n",
       "    </tr>\n",
       "    <tr>\n",
       "      <th>2910406</th>\n",
       "      <td>ORGANISATION ET RESSOURCES</td>\n",
       "    </tr>\n",
       "    <tr>\n",
       "      <th>2910407</th>\n",
       "      <td>THEMATIQUE URBAINE ARCHITECTURALE PAYSAGERE ET...</td>\n",
       "    </tr>\n",
       "  </tbody>\n",
       "</table>\n",
       "<p>2910408 rows × 1 columns</p>\n",
       "</div>"
      ],
      "text/plain": [
       "                                                      name\n",
       "0                                     PRIX DES PRESTATIONS\n",
       "1                                         VALEUR TECHNIQUE\n",
       "2                                        DELAI D'EXECUTION\n",
       "3                                     PRIX DES PRESTATIONS\n",
       "4                                         VALEUR TECHNIQUE\n",
       "...                                                    ...\n",
       "2910403  MOYENS HUMAINS; ORGANISATION GENERALE; GESTION...\n",
       "2910404                                               PRIX\n",
       "2910405  MOYENS HUMAINS; ORGANISATION GENERALE; GESTION...\n",
       "2910406                         ORGANISATION ET RESSOURCES\n",
       "2910407  THEMATIQUE URBAINE ARCHITECTURALE PAYSAGERE ET...\n",
       "\n",
       "[2910408 rows x 1 columns]"
      ]
     },
     "execution_count": 64,
     "metadata": {},
     "output_type": "execute_result"
    }
   ],
   "source": [
    "name"
   ]
  },
  {
   "cell_type": "markdown",
   "metadata": {},
   "source": [
    "Nous remarquant que certaines critéres ont plusieurs noms."
   ]
  },
  {
   "cell_type": "code",
   "execution_count": 65,
   "metadata": {},
   "outputs": [],
   "source": [
    "name_vc = get_vc(Criteria, column='name')"
   ]
  },
  {
   "cell_type": "code",
   "execution_count": 66,
   "metadata": {},
   "outputs": [
    {
     "data": {
      "text/html": [
       "<div>\n",
       "<style scoped>\n",
       "    .dataframe tbody tr th:only-of-type {\n",
       "        vertical-align: middle;\n",
       "    }\n",
       "\n",
       "    .dataframe tbody tr th {\n",
       "        vertical-align: top;\n",
       "    }\n",
       "\n",
       "    .dataframe thead th {\n",
       "        text-align: right;\n",
       "    }\n",
       "</style>\n",
       "<table border=\"1\" class=\"dataframe\">\n",
       "  <thead>\n",
       "    <tr style=\"text-align: right;\">\n",
       "      <th></th>\n",
       "      <th>valeur</th>\n",
       "      <th>count</th>\n",
       "      <th>proportion</th>\n",
       "    </tr>\n",
       "  </thead>\n",
       "  <tbody>\n",
       "    <tr>\n",
       "      <th>0</th>\n",
       "      <td>PRIX</td>\n",
       "      <td>531514</td>\n",
       "      <td>18.262563</td>\n",
       "    </tr>\n",
       "    <tr>\n",
       "      <th>1</th>\n",
       "      <td>VALEUR TECHNIQUE</td>\n",
       "      <td>350308</td>\n",
       "      <td>12.036413</td>\n",
       "    </tr>\n",
       "    <tr>\n",
       "      <th>2</th>\n",
       "      <td>PRIX DES PRESTATIONS</td>\n",
       "      <td>127532</td>\n",
       "      <td>4.381938</td>\n",
       "    </tr>\n",
       "    <tr>\n",
       "      <th>3</th>\n",
       "      <td>VALEUR TECHNIQUE DE L'OFFRE</td>\n",
       "      <td>36646</td>\n",
       "      <td>1.259139</td>\n",
       "    </tr>\n",
       "    <tr>\n",
       "      <th>4</th>\n",
       "      <td>DELAI DE LIVRAISON</td>\n",
       "      <td>29520</td>\n",
       "      <td>1.014293</td>\n",
       "    </tr>\n",
       "    <tr>\n",
       "      <th>...</th>\n",
       "      <td>...</td>\n",
       "      <td>...</td>\n",
       "      <td>...</td>\n",
       "    </tr>\n",
       "    <tr>\n",
       "      <th>236772</th>\n",
       "      <td>VALEUR TECHNIQUE; JUGEE SUR LA BASE DU MEMOIRE...</td>\n",
       "      <td>1</td>\n",
       "      <td>0.000034</td>\n",
       "    </tr>\n",
       "    <tr>\n",
       "      <th>236773</th>\n",
       "      <td>QUALITE DU SAV; GARANTIE ET FORMATION</td>\n",
       "      <td>1</td>\n",
       "      <td>0.000034</td>\n",
       "    </tr>\n",
       "    <tr>\n",
       "      <th>236774</th>\n",
       "      <td>DELAI DE LIVRAISON ET DELAI DE REMISE DU DEVIS</td>\n",
       "      <td>1</td>\n",
       "      <td>0.000034</td>\n",
       "    </tr>\n",
       "    <tr>\n",
       "      <th>236775</th>\n",
       "      <td>SAV/ASSISTANCE TECHNIQUE</td>\n",
       "      <td>1</td>\n",
       "      <td>0.000034</td>\n",
       "    </tr>\n",
       "    <tr>\n",
       "      <th>236776</th>\n",
       "      <td>THEMATIQUE URBAINE ARCHITECTURALE PAYSAGERE ET...</td>\n",
       "      <td>1</td>\n",
       "      <td>0.000034</td>\n",
       "    </tr>\n",
       "  </tbody>\n",
       "</table>\n",
       "<p>236777 rows × 3 columns</p>\n",
       "</div>"
      ],
      "text/plain": [
       "                                                   valeur   count  proportion\n",
       "0                                                    PRIX  531514   18.262563\n",
       "1                                        VALEUR TECHNIQUE  350308   12.036413\n",
       "2                                    PRIX DES PRESTATIONS  127532    4.381938\n",
       "3                             VALEUR TECHNIQUE DE L'OFFRE   36646    1.259139\n",
       "4                                      DELAI DE LIVRAISON   29520    1.014293\n",
       "...                                                   ...     ...         ...\n",
       "236772  VALEUR TECHNIQUE; JUGEE SUR LA BASE DU MEMOIRE...       1    0.000034\n",
       "236773              QUALITE DU SAV; GARANTIE ET FORMATION       1    0.000034\n",
       "236774     DELAI DE LIVRAISON ET DELAI DE REMISE DU DEVIS       1    0.000034\n",
       "236775                           SAV/ASSISTANCE TECHNIQUE       1    0.000034\n",
       "236776  THEMATIQUE URBAINE ARCHITECTURALE PAYSAGERE ET...       1    0.000034\n",
       "\n",
       "[236777 rows x 3 columns]"
      ]
     },
     "execution_count": 66,
     "metadata": {},
     "output_type": "execute_result"
    }
   ],
   "source": [
    "name_vc"
   ]
  },
  {
   "cell_type": "code",
   "execution_count": 67,
   "metadata": {},
   "outputs": [],
   "source": [
    "name_na = get_na(Criteria, column='name')"
   ]
  },
  {
   "cell_type": "code",
   "execution_count": 68,
   "metadata": {},
   "outputs": [
    {
     "data": {
      "text/html": [
       "<div>\n",
       "<style scoped>\n",
       "    .dataframe tbody tr th:only-of-type {\n",
       "        vertical-align: middle;\n",
       "    }\n",
       "\n",
       "    .dataframe tbody tr th {\n",
       "        vertical-align: top;\n",
       "    }\n",
       "\n",
       "    .dataframe thead th {\n",
       "        text-align: right;\n",
       "    }\n",
       "</style>\n",
       "<table border=\"1\" class=\"dataframe\">\n",
       "  <thead>\n",
       "    <tr style=\"text-align: right;\">\n",
       "      <th></th>\n",
       "      <th>attribut</th>\n",
       "      <th>count</th>\n",
       "      <th>proportion</th>\n",
       "    </tr>\n",
       "  </thead>\n",
       "  <tbody>\n",
       "    <tr>\n",
       "      <th>0</th>\n",
       "      <td>manque</td>\n",
       "      <td>6</td>\n",
       "      <td>0.000206</td>\n",
       "    </tr>\n",
       "    <tr>\n",
       "      <th>1</th>\n",
       "      <td>exist</td>\n",
       "      <td>2910402</td>\n",
       "      <td>99.999794</td>\n",
       "    </tr>\n",
       "  </tbody>\n",
       "</table>\n",
       "</div>"
      ],
      "text/plain": [
       "  attribut    count  proportion\n",
       "0   manque        6    0.000206\n",
       "1    exist  2910402   99.999794"
      ]
     },
     "execution_count": 68,
     "metadata": {},
     "output_type": "execute_result"
    }
   ],
   "source": [
    "name_na"
   ]
  },
  {
   "cell_type": "markdown",
   "metadata": {},
   "source": [
    "Le résultat 6 signifie qu'il y a six entrées dans la colonne name qui sont considérées comme manquantes.Cela peut être dû à un oubli, à l'indisponibilité des informations au moment de la collecte des données, ou à d'autres facteurs qui empêchent la saisie de ces données."
   ]
  },
  {
   "cell_type": "markdown",
   "metadata": {},
   "source": [
    "Nous pouvons considerer que cela est normal si certains critére n'ont pas de nom.Ainsi que la proportion de ces valeur est trés petits."
   ]
  },
  {
   "cell_type": "code",
   "execution_count": 87,
   "metadata": {},
   "outputs": [
    {
     "data": {
      "image/png": "[encoded data removed]",
      "text/plain": [
       "<Figure size 800x600 with 2 Axes>"
      ]
     },
     "metadata": {},
     "output_type": "display_data"
    }
   ],
   "source": [
    "plot_proportion(\n",
    "    data=name_na,\n",
    "    xcol='attribut', \n",
    "    ycol='proportion', \n",
    "    title='Proportion des noms des critéres', \n",
    "    xtitle='name', \n",
    "    ytitle='proportion',\n",
    "    saveas='../images/01_problemes_name_01.png',\n",
    "    logy=False\n",
    ")"
   ]
  },
  {
   "cell_type": "markdown",
   "metadata": {},
   "source": [
    "# Attribut weight"
   ]
  },
  {
   "cell_type": "code",
   "execution_count": 69,
   "metadata": {},
   "outputs": [],
   "source": [
    "weight = Criteria[['weight']]"
   ]
  },
  {
   "cell_type": "code",
   "execution_count": 70,
   "metadata": {},
   "outputs": [
    {
     "data": {
      "text/html": [
       "<div>\n",
       "<style scoped>\n",
       "    .dataframe tbody tr th:only-of-type {\n",
       "        vertical-align: middle;\n",
       "    }\n",
       "\n",
       "    .dataframe tbody tr th {\n",
       "        vertical-align: top;\n",
       "    }\n",
       "\n",
       "    .dataframe thead th {\n",
       "        text-align: right;\n",
       "    }\n",
       "</style>\n",
       "<table border=\"1\" class=\"dataframe\">\n",
       "  <thead>\n",
       "    <tr style=\"text-align: right;\">\n",
       "      <th></th>\n",
       "      <th>weight</th>\n",
       "    </tr>\n",
       "  </thead>\n",
       "  <tbody>\n",
       "    <tr>\n",
       "      <th>0</th>\n",
       "      <td>40.0</td>\n",
       "    </tr>\n",
       "    <tr>\n",
       "      <th>1</th>\n",
       "      <td>40.0</td>\n",
       "    </tr>\n",
       "    <tr>\n",
       "      <th>2</th>\n",
       "      <td>20.0</td>\n",
       "    </tr>\n",
       "    <tr>\n",
       "      <th>3</th>\n",
       "      <td>40.0</td>\n",
       "    </tr>\n",
       "    <tr>\n",
       "      <th>4</th>\n",
       "      <td>40.0</td>\n",
       "    </tr>\n",
       "    <tr>\n",
       "      <th>...</th>\n",
       "      <td>...</td>\n",
       "    </tr>\n",
       "    <tr>\n",
       "      <th>2910403</th>\n",
       "      <td>50.0</td>\n",
       "    </tr>\n",
       "    <tr>\n",
       "      <th>2910404</th>\n",
       "      <td>50.0</td>\n",
       "    </tr>\n",
       "    <tr>\n",
       "      <th>2910405</th>\n",
       "      <td>50.0</td>\n",
       "    </tr>\n",
       "    <tr>\n",
       "      <th>2910406</th>\n",
       "      <td>50.0</td>\n",
       "    </tr>\n",
       "    <tr>\n",
       "      <th>2910407</th>\n",
       "      <td>50.0</td>\n",
       "    </tr>\n",
       "  </tbody>\n",
       "</table>\n",
       "<p>2910408 rows × 1 columns</p>\n",
       "</div>"
      ],
      "text/plain": [
       "         weight\n",
       "0          40.0\n",
       "1          40.0\n",
       "2          20.0\n",
       "3          40.0\n",
       "4          40.0\n",
       "...         ...\n",
       "2910403    50.0\n",
       "2910404    50.0\n",
       "2910405    50.0\n",
       "2910406    50.0\n",
       "2910407    50.0\n",
       "\n",
       "[2910408 rows x 1 columns]"
      ]
     },
     "execution_count": 70,
     "metadata": {},
     "output_type": "execute_result"
    }
   ],
   "source": [
    "weight"
   ]
  },
  {
   "cell_type": "code",
   "execution_count": 71,
   "metadata": {},
   "outputs": [],
   "source": [
    "weight_vc = get_vc(Criteria, column='weight')"
   ]
  },
  {
   "cell_type": "code",
   "execution_count": 72,
   "metadata": {},
   "outputs": [
    {
     "data": {
      "text/html": [
       "<div>\n",
       "<style scoped>\n",
       "    .dataframe tbody tr th:only-of-type {\n",
       "        vertical-align: middle;\n",
       "    }\n",
       "\n",
       "    .dataframe tbody tr th {\n",
       "        vertical-align: top;\n",
       "    }\n",
       "\n",
       "    .dataframe thead th {\n",
       "        text-align: right;\n",
       "    }\n",
       "</style>\n",
       "<table border=\"1\" class=\"dataframe\">\n",
       "  <thead>\n",
       "    <tr style=\"text-align: right;\">\n",
       "      <th></th>\n",
       "      <th>valeur</th>\n",
       "      <th>count</th>\n",
       "      <th>proportion</th>\n",
       "    </tr>\n",
       "  </thead>\n",
       "  <tbody>\n",
       "    <tr>\n",
       "      <th>0</th>\n",
       "      <td>40.000000</td>\n",
       "      <td>478830</td>\n",
       "      <td>16.452332</td>\n",
       "    </tr>\n",
       "    <tr>\n",
       "      <th>1</th>\n",
       "      <td>60.000000</td>\n",
       "      <td>350802</td>\n",
       "      <td>12.053362</td>\n",
       "    </tr>\n",
       "    <tr>\n",
       "      <th>2</th>\n",
       "      <td>30.000000</td>\n",
       "      <td>261742</td>\n",
       "      <td>8.993310</td>\n",
       "    </tr>\n",
       "    <tr>\n",
       "      <th>3</th>\n",
       "      <td>10.000000</td>\n",
       "      <td>229329</td>\n",
       "      <td>7.879617</td>\n",
       "    </tr>\n",
       "    <tr>\n",
       "      <th>4</th>\n",
       "      <td>50.000000</td>\n",
       "      <td>229192</td>\n",
       "      <td>7.874910</td>\n",
       "    </tr>\n",
       "    <tr>\n",
       "      <th>...</th>\n",
       "      <td>...</td>\n",
       "      <td>...</td>\n",
       "      <td>...</td>\n",
       "    </tr>\n",
       "    <tr>\n",
       "      <th>2936</th>\n",
       "      <td>42.696629</td>\n",
       "      <td>1</td>\n",
       "      <td>0.000034</td>\n",
       "    </tr>\n",
       "    <tr>\n",
       "      <th>2937</th>\n",
       "      <td>57.303371</td>\n",
       "      <td>1</td>\n",
       "      <td>0.000034</td>\n",
       "    </tr>\n",
       "    <tr>\n",
       "      <th>2938</th>\n",
       "      <td>74.626866</td>\n",
       "      <td>1</td>\n",
       "      <td>0.000034</td>\n",
       "    </tr>\n",
       "    <tr>\n",
       "      <th>2939</th>\n",
       "      <td>70.000000</td>\n",
       "      <td>1</td>\n",
       "      <td>0.000034</td>\n",
       "    </tr>\n",
       "    <tr>\n",
       "      <th>2940</th>\n",
       "      <td>31.428571</td>\n",
       "      <td>1</td>\n",
       "      <td>0.000034</td>\n",
       "    </tr>\n",
       "  </tbody>\n",
       "</table>\n",
       "<p>2941 rows × 3 columns</p>\n",
       "</div>"
      ],
      "text/plain": [
       "         valeur   count  proportion\n",
       "0     40.000000  478830   16.452332\n",
       "1     60.000000  350802   12.053362\n",
       "2     30.000000  261742    8.993310\n",
       "3     10.000000  229329    7.879617\n",
       "4     50.000000  229192    7.874910\n",
       "...         ...     ...         ...\n",
       "2936  42.696629       1    0.000034\n",
       "2937  57.303371       1    0.000034\n",
       "2938  74.626866       1    0.000034\n",
       "2939  70.000000       1    0.000034\n",
       "2940  31.428571       1    0.000034\n",
       "\n",
       "[2941 rows x 3 columns]"
      ]
     },
     "execution_count": 72,
     "metadata": {},
     "output_type": "execute_result"
    }
   ],
   "source": [
    "weight_vc"
   ]
  },
  {
   "cell_type": "code",
   "execution_count": 73,
   "metadata": {},
   "outputs": [],
   "source": [
    "weight_na = get_na(Criteria, column='weight')"
   ]
  },
  {
   "cell_type": "code",
   "execution_count": 74,
   "metadata": {},
   "outputs": [
    {
     "data": {
      "text/html": [
       "<div>\n",
       "<style scoped>\n",
       "    .dataframe tbody tr th:only-of-type {\n",
       "        vertical-align: middle;\n",
       "    }\n",
       "\n",
       "    .dataframe tbody tr th {\n",
       "        vertical-align: top;\n",
       "    }\n",
       "\n",
       "    .dataframe thead th {\n",
       "        text-align: right;\n",
       "    }\n",
       "</style>\n",
       "<table border=\"1\" class=\"dataframe\">\n",
       "  <thead>\n",
       "    <tr style=\"text-align: right;\">\n",
       "      <th></th>\n",
       "      <th>attribut</th>\n",
       "      <th>count</th>\n",
       "      <th>proportion</th>\n",
       "    </tr>\n",
       "  </thead>\n",
       "  <tbody>\n",
       "    <tr>\n",
       "      <th>0</th>\n",
       "      <td>manque</td>\n",
       "      <td>0</td>\n",
       "      <td>0.0</td>\n",
       "    </tr>\n",
       "    <tr>\n",
       "      <th>1</th>\n",
       "      <td>exist</td>\n",
       "      <td>2910408</td>\n",
       "      <td>100.0</td>\n",
       "    </tr>\n",
       "  </tbody>\n",
       "</table>\n",
       "</div>"
      ],
      "text/plain": [
       "  attribut    count  proportion\n",
       "0   manque        0         0.0\n",
       "1    exist  2910408       100.0"
      ]
     },
     "execution_count": 74,
     "metadata": {},
     "output_type": "execute_result"
    }
   ],
   "source": [
    "weight_na"
   ]
  },
  {
   "cell_type": "code",
   "execution_count": 88,
   "metadata": {},
   "outputs": [
    {
     "data": {
      "image/png": "[encoded data removed]",
      "text/plain": [
       "<Figure size 640x480 with 1 Axes>"
      ]
     },
     "metadata": {},
     "output_type": "display_data"
    }
   ],
   "source": [
    "\n",
    "Criteria['weight'].hist(bins=50)\n",
    "plt.xlabel('Poids')\n",
    "plt.ylabel('Nombre de Critères')\n",
    "plt.title('Distribution des Poids des Critères')\n",
    "plt.show()"
   ]
  },
  {
   "cell_type": "markdown",
   "metadata": {},
   "source": [
    " Il y a un creux dans la distribution entre les deux pics principaux, indiquant une absence relative de critères avec des poids moyens entre ces deux valeurs."
   ]
  }
 ],
 "metadata": {
  "kernelspec": {
   "display_name": "Python 3 (ipykernel)",
   "language": "python",
   "name": "python3"
  },
  "language_info": {
   "codemirror_mode": {
    "name": "ipython",
    "version": 3
   },
   "file_extension": ".py",
   "mimetype": "text/x-python",
   "name": "python",
   "nbconvert_exporter": "python",
   "pygments_lexer": "ipython3",
   "version": "3.12.1"
  }
 },
 "nbformat": 4,
 "nbformat_minor": 4
}
